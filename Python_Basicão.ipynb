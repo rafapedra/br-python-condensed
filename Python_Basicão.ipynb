{
  "nbformat": 4,
  "nbformat_minor": 0,
  "metadata": {
    "colab": {
      "name": "Python Basicão",
      "provenance": [],
      "authorship_tag": "ABX9TyMr8pDfXz/bs95vN2hKh1pn",
      "include_colab_link": true
    },
    "kernelspec": {
      "name": "python3",
      "display_name": "Python 3"
    },
    "language_info": {
      "name": "python"
    }
  },
  "cells": [
    {
      "cell_type": "markdown",
      "metadata": {
        "id": "view-in-github",
        "colab_type": "text"
      },
      "source": [
        "<a href=\"https://colab.research.google.com/github/rafapedra/br-python-condensed/blob/main/Python_Basic%C3%A3o.ipynb\" target=\"_parent\"><img src=\"https://colab.research.google.com/assets/colab-badge.svg\" alt=\"Open In Colab\"/></a>"
      ]
    },
    {
      "cell_type": "markdown",
      "metadata": {
        "id": "0cZ45VV16NFF"
      },
      "source": [
        "### Primeira experiência no Python usando Google Colab !! "
      ]
    },
    {
      "cell_type": "code",
      "metadata": {
        "colab": {
          "base_uri": "https://localhost:8080/"
        },
        "id": "__hzA3hU6d6g",
        "outputId": "1b38de3c-d875-44f1-b78e-7241356ec959"
      },
      "source": [
        "print (\"Jacaré Carçudo - Bora programá\")"
      ],
      "execution_count": 2,
      "outputs": [
        {
          "output_type": "stream",
          "name": "stdout",
          "text": [
            "Jacaré Carçudo - Bora programá\n"
          ]
        }
      ]
    },
    {
      "cell_type": "markdown",
      "metadata": {
        "id": "lSZ8-Y0S61QR"
      },
      "source": [
        "###Código Inicial - Concatenando Strings\n"
      ]
    },
    {
      "cell_type": "code",
      "metadata": {
        "colab": {
          "base_uri": "https://localhost:8080/"
        },
        "id": "a4KzUrf068PH",
        "outputId": "968162ed-d804-48b0-89d4-72560e7ac3b9"
      },
      "source": [
        "print (\"Aula\" + \" 1 Tabajara\")"
      ],
      "execution_count": 3,
      "outputs": [
        {
          "output_type": "stream",
          "name": "stdout",
          "text": [
            "Aula1 Tabajara\n"
          ]
        }
      ]
    },
    {
      "cell_type": "code",
      "metadata": {
        "colab": {
          "base_uri": "https://localhost:8080/"
        },
        "id": "zUYT_v507Exd",
        "outputId": "04e6f00e-2950-4223-8b81-44bae15f0120"
      },
      "source": [
        "print (\"Aula {} Tabajara desse curso online do {}\".format( \"1 substituindo valor\", \"Python for dummyes do youtube\"))"
      ],
      "execution_count": 6,
      "outputs": [
        {
          "output_type": "stream",
          "name": "stdout",
          "text": [
            "Aula 1 substituindo valor Tabajara desse curso online do Python for dummyes do youtube\n"
          ]
        }
      ]
    },
    {
      "cell_type": "code",
      "metadata": {
        "colab": {
          "base_uri": "https://localhost:8080/"
        },
        "id": "yz4ZcCDP7_Xo",
        "outputId": "7d37d924-aa42-43ef-d0df-849264607fad"
      },
      "source": [
        "print (\"curso de Mudando tudo pra minusculo\".lower())"
      ],
      "execution_count": 8,
      "outputs": [
        {
          "output_type": "stream",
          "name": "stdout",
          "text": [
            "curso de mudando tudo pra minusculo\n"
          ]
        }
      ]
    },
    {
      "cell_type": "code",
      "metadata": {
        "colab": {
          "base_uri": "https://localhost:8080/"
        },
        "id": "UvvHSdj38IBA",
        "outputId": "36bf118a-adec-4715-ea47-b913228b905c"
      },
      "source": [
        "print (\"curso de Mudando tudo pra maiusculo\".upper())"
      ],
      "execution_count": 11,
      "outputs": [
        {
          "output_type": "stream",
          "name": "stdout",
          "text": [
            "CURSO DE MUDANDO TUDO PRA MAIUSCULO\n"
          ]
        }
      ]
    },
    {
      "cell_type": "code",
      "metadata": {
        "colab": {
          "base_uri": "https://localhost:8080/"
        },
        "id": "oPEEMCx08Mgl",
        "outputId": "6bb3a7c6-5433-4fdb-f6e4-23bd08c19ca0"
      },
      "source": [
        "print (\"                                  removendo espaços do inicio e fim                               \".strip())"
      ],
      "execution_count": 13,
      "outputs": [
        {
          "output_type": "stream",
          "name": "stdout",
          "text": [
            "removendo espaços do inicio e fim\n"
          ]
        }
      ]
    },
    {
      "cell_type": "code",
      "metadata": {
        "colab": {
          "base_uri": "https://localhost:8080/"
        },
        "id": "GSi7z6s18d3h",
        "outputId": "f3590e21-d503-4cd6-e45b-34ee4fe39c0a"
      },
      "source": [
        "type (\"Retorna o tipo de dado que está no trem ... nesse caso uma string\")"
      ],
      "execution_count": 16,
      "outputs": [
        {
          "output_type": "execute_result",
          "data": {
            "text/plain": [
              "str"
            ]
          },
          "metadata": {},
          "execution_count": 16
        }
      ]
    },
    {
      "cell_type": "code",
      "metadata": {
        "colab": {
          "base_uri": "https://localhost:8080/"
        },
        "id": "9HWKPgdq8r9_",
        "outputId": "913efe35-c1af-4fc0-88d1-b3912309b7a7"
      },
      "source": [
        "type (2.5)"
      ],
      "execution_count": 20,
      "outputs": [
        {
          "output_type": "execute_result",
          "data": {
            "text/plain": [
              "float"
            ]
          },
          "metadata": {},
          "execution_count": 20
        }
      ]
    },
    {
      "cell_type": "code",
      "metadata": {
        "colab": {
          "base_uri": "https://localhost:8080/"
        },
        "id": "ZUyzd_pm8zrP",
        "outputId": "c57be575-0505-45aa-df6b-9b73fb19eb09"
      },
      "source": [
        "2 + 2"
      ],
      "execution_count": 21,
      "outputs": [
        {
          "output_type": "execute_result",
          "data": {
            "text/plain": [
              "4"
            ]
          },
          "metadata": {},
          "execution_count": 21
        }
      ]
    },
    {
      "cell_type": "code",
      "metadata": {
        "colab": {
          "base_uri": "https://localhost:8080/"
        },
        "id": "N3My1Uae9Pmv",
        "outputId": "dc14411c-4386-407a-fd68-060473cf599e"
      },
      "source": [
        "5 * 500"
      ],
      "execution_count": 22,
      "outputs": [
        {
          "output_type": "execute_result",
          "data": {
            "text/plain": [
              "2500"
            ]
          },
          "metadata": {},
          "execution_count": 22
        }
      ]
    },
    {
      "cell_type": "code",
      "metadata": {
        "id": "s-z5A6dd9S3b"
      },
      "source": [
        ""
      ],
      "execution_count": null,
      "outputs": []
    },
    {
      "cell_type": "markdown",
      "metadata": {
        "id": "w9vGA3Tt9UU5"
      },
      "source": [
        "## Exponenciação com **"
      ]
    },
    {
      "cell_type": "code",
      "metadata": {
        "colab": {
          "base_uri": "https://localhost:8080/"
        },
        "id": "HRGpMmmf9ZB4",
        "outputId": "57dcf655-28ec-4a95-b76d-f11e9e4de503"
      },
      "source": [
        "2 ** 2"
      ],
      "execution_count": 23,
      "outputs": [
        {
          "output_type": "execute_result",
          "data": {
            "text/plain": [
              "4"
            ]
          },
          "metadata": {},
          "execution_count": 23
        }
      ]
    },
    {
      "cell_type": "code",
      "metadata": {
        "colab": {
          "base_uri": "https://localhost:8080/"
        },
        "id": "A-dlIV0J9afw",
        "outputId": "1b1a148a-2f3a-4278-a9b6-e71ee36d3aa5"
      },
      "source": [
        "10 / 10 * 500"
      ],
      "execution_count": 24,
      "outputs": [
        {
          "output_type": "execute_result",
          "data": {
            "text/plain": [
              "500.0"
            ]
          },
          "metadata": {},
          "execution_count": 24
        }
      ]
    },
    {
      "cell_type": "code",
      "metadata": {
        "id": "CgyGijX09fV2"
      },
      "source": [
        ""
      ],
      "execution_count": null,
      "outputs": []
    },
    {
      "cell_type": "markdown",
      "metadata": {
        "id": "5krGr7uT9h5l"
      },
      "source": [
        "##Divisão inteiro com //"
      ]
    },
    {
      "cell_type": "code",
      "metadata": {
        "colab": {
          "base_uri": "https://localhost:8080/"
        },
        "id": "z8Uwz8k-9kOY",
        "outputId": "2c29ea5c-249b-441f-f682-af9c07df402c"
      },
      "source": [
        "521 / 500"
      ],
      "execution_count": 25,
      "outputs": [
        {
          "output_type": "execute_result",
          "data": {
            "text/plain": [
              "1.042"
            ]
          },
          "metadata": {},
          "execution_count": 25
        }
      ]
    },
    {
      "cell_type": "code",
      "metadata": {
        "colab": {
          "base_uri": "https://localhost:8080/"
        },
        "id": "yW2O4KL19o7r",
        "outputId": "2320a230-5bb6-40be-bba5-bdebe37eafc7"
      },
      "source": [
        "521 // 500 "
      ],
      "execution_count": 26,
      "outputs": [
        {
          "output_type": "execute_result",
          "data": {
            "text/plain": [
              "1"
            ]
          },
          "metadata": {},
          "execution_count": 26
        }
      ]
    },
    {
      "cell_type": "code",
      "metadata": {
        "id": "r1Su0ZNF9rYd"
      },
      "source": [
        ""
      ],
      "execution_count": null,
      "outputs": []
    },
    {
      "cell_type": "markdown",
      "metadata": {
        "id": "9V_F4epA9v6_"
      },
      "source": [
        "##Resto da divisão usa %"
      ]
    },
    {
      "cell_type": "code",
      "metadata": {
        "colab": {
          "base_uri": "https://localhost:8080/"
        },
        "id": "NbNkxNL-9y1M",
        "outputId": "b9aa237d-67e1-4564-c798-4dfd60f7b9e6"
      },
      "source": [
        "5 % 2"
      ],
      "execution_count": 27,
      "outputs": [
        {
          "output_type": "execute_result",
          "data": {
            "text/plain": [
              "1"
            ]
          },
          "metadata": {},
          "execution_count": 27
        }
      ]
    },
    {
      "cell_type": "code",
      "metadata": {
        "id": "W4n6WhaW9282"
      },
      "source": [
        ""
      ],
      "execution_count": null,
      "outputs": []
    },
    {
      "cell_type": "markdown",
      "metadata": {
        "id": "bBUqCS2D988K"
      },
      "source": [
        "##Expressões"
      ]
    },
    {
      "cell_type": "code",
      "metadata": {
        "colab": {
          "base_uri": "https://localhost:8080/"
        },
        "id": "GdBElVuy-ATk",
        "outputId": "04575150-4b4d-435d-a6bb-267ff2c203d0"
      },
      "source": [
        "5 + 10 + 20 - 3"
      ],
      "execution_count": 28,
      "outputs": [
        {
          "output_type": "execute_result",
          "data": {
            "text/plain": [
              "32"
            ]
          },
          "metadata": {},
          "execution_count": 28
        }
      ]
    },
    {
      "cell_type": "code",
      "metadata": {
        "colab": {
          "base_uri": "https://localhost:8080/"
        },
        "id": "PgALVsOe-F3A",
        "outputId": "336d021c-1978-4d5b-bbf9-b72a83a45809"
      },
      "source": [
        "(5 + 10 * (10)) ** 2 "
      ],
      "execution_count": 29,
      "outputs": [
        {
          "output_type": "execute_result",
          "data": {
            "text/plain": [
              "11025"
            ]
          },
          "metadata": {},
          "execution_count": 29
        }
      ]
    },
    {
      "cell_type": "code",
      "metadata": {
        "id": "pNQx2pC0-UIB"
      },
      "source": [
        ""
      ],
      "execution_count": null,
      "outputs": []
    },
    {
      "cell_type": "markdown",
      "metadata": {
        "id": "x1msJm6I-htn"
      },
      "source": [
        "##Variáveis"
      ]
    },
    {
      "cell_type": "markdown",
      "metadata": {
        "id": "4AZ5ELC_-zIm"
      },
      "source": [
        "## de Texto"
      ]
    },
    {
      "cell_type": "code",
      "metadata": {
        "id": "f62rtOJc-4Zx"
      },
      "source": [
        "texto = \"Aulão variáveis\""
      ],
      "execution_count": 30,
      "outputs": []
    },
    {
      "cell_type": "code",
      "metadata": {
        "colab": {
          "base_uri": "https://localhost:8080/",
          "height": 165
        },
        "id": "bdOolzRo_LAU",
        "outputId": "9ebf0125-9204-44cd-a9ea-ee6364016222"
      },
      "source": [
        "text"
      ],
      "execution_count": 31,
      "outputs": [
        {
          "output_type": "error",
          "ename": "NameError",
          "evalue": "ignored",
          "traceback": [
            "\u001b[0;31m---------------------------------------------------------------------------\u001b[0m",
            "\u001b[0;31mNameError\u001b[0m                                 Traceback (most recent call last)",
            "\u001b[0;32m<ipython-input-31-aa785adca3fc>\u001b[0m in \u001b[0;36m<module>\u001b[0;34m()\u001b[0m\n\u001b[0;32m----> 1\u001b[0;31m \u001b[0mtext\u001b[0m\u001b[0;34m\u001b[0m\u001b[0;34m\u001b[0m\u001b[0m\n\u001b[0m",
            "\u001b[0;31mNameError\u001b[0m: name 'text' is not defined"
          ]
        }
      ]
    },
    {
      "cell_type": "code",
      "metadata": {
        "colab": {
          "base_uri": "https://localhost:8080/",
          "height": 35
        },
        "id": "yzxRP_nK_ORt",
        "outputId": "7eef9efb-0cca-4d74-f4b4-8792ad5897d4"
      },
      "source": [
        "texto"
      ],
      "execution_count": 32,
      "outputs": [
        {
          "output_type": "execute_result",
          "data": {
            "application/vnd.google.colaboratory.intrinsic+json": {
              "type": "string"
            },
            "text/plain": [
              "'Aulão variáveis'"
            ]
          },
          "metadata": {},
          "execution_count": 32
        }
      ]
    },
    {
      "cell_type": "code",
      "metadata": {
        "id": "1qJE3Ijs_Qw9"
      },
      "source": [
        "texto = texto + \" Aula 02 do Youtube\""
      ],
      "execution_count": 35,
      "outputs": []
    },
    {
      "cell_type": "code",
      "metadata": {
        "colab": {
          "base_uri": "https://localhost:8080/",
          "height": 35
        },
        "id": "MDNhaqpq_WfT",
        "outputId": "9caf37ee-b4ee-4c66-ae8e-2e6f7096625d"
      },
      "source": [
        "texto"
      ],
      "execution_count": 36,
      "outputs": [
        {
          "output_type": "execute_result",
          "data": {
            "application/vnd.google.colaboratory.intrinsic+json": {
              "type": "string"
            },
            "text/plain": [
              "'Aulão variáveisAula 02 do Youtube Aula 02 do Youtube'"
            ]
          },
          "metadata": {},
          "execution_count": 36
        }
      ]
    },
    {
      "cell_type": "markdown",
      "metadata": {
        "id": "slGrsSc7_vaI"
      },
      "source": [
        "##Variáveis Numéricas"
      ]
    },
    {
      "cell_type": "code",
      "metadata": {
        "id": "6SASGsNd_x2y"
      },
      "source": [
        "soma = 0"
      ],
      "execution_count": 38,
      "outputs": []
    },
    {
      "cell_type": "code",
      "metadata": {
        "colab": {
          "base_uri": "https://localhost:8080/"
        },
        "id": "fNWll8Vw_6Ah",
        "outputId": "5d84dffd-d55e-4421-9fdc-e77ac2052cb8"
      },
      "source": [
        "soma"
      ],
      "execution_count": 39,
      "outputs": [
        {
          "output_type": "execute_result",
          "data": {
            "text/plain": [
              "0"
            ]
          },
          "metadata": {},
          "execution_count": 39
        }
      ]
    },
    {
      "cell_type": "code",
      "metadata": {
        "id": "gqIb0tBS_6um"
      },
      "source": [
        "soma = soma + 500"
      ],
      "execution_count": 40,
      "outputs": []
    },
    {
      "cell_type": "code",
      "metadata": {
        "colab": {
          "base_uri": "https://localhost:8080/"
        },
        "id": "oUNzsxqW_-4X",
        "outputId": "3b140efb-6d2d-4372-de71-c3f12999e672"
      },
      "source": [
        "soma\n"
      ],
      "execution_count": 41,
      "outputs": [
        {
          "output_type": "execute_result",
          "data": {
            "text/plain": [
              "500"
            ]
          },
          "metadata": {},
          "execution_count": 41
        }
      ]
    },
    {
      "cell_type": "code",
      "metadata": {
        "id": "PkSJO9sY__00"
      },
      "source": [
        "soma += 500"
      ],
      "execution_count": 42,
      "outputs": []
    },
    {
      "cell_type": "code",
      "metadata": {
        "colab": {
          "base_uri": "https://localhost:8080/"
        },
        "id": "Lkyf_yvDAEbF",
        "outputId": "41ab60fd-2889-45c1-b79f-8e1409d22f01"
      },
      "source": [
        "soma"
      ],
      "execution_count": 43,
      "outputs": [
        {
          "output_type": "execute_result",
          "data": {
            "text/plain": [
              "1000"
            ]
          },
          "metadata": {},
          "execution_count": 43
        }
      ]
    },
    {
      "cell_type": "code",
      "metadata": {
        "id": "aHyqdomiAFln"
      },
      "source": [
        "soma -= 1000"
      ],
      "execution_count": 44,
      "outputs": []
    },
    {
      "cell_type": "code",
      "metadata": {
        "colab": {
          "base_uri": "https://localhost:8080/"
        },
        "id": "J6s5rBzqAIva",
        "outputId": "a98246d7-ac34-4b4a-92ce-14fa75a173cf"
      },
      "source": [
        "soma\n",
        "\n"
      ],
      "execution_count": 45,
      "outputs": [
        {
          "output_type": "execute_result",
          "data": {
            "text/plain": [
              "0"
            ]
          },
          "metadata": {},
          "execution_count": 45
        }
      ]
    },
    {
      "cell_type": "markdown",
      "metadata": {
        "id": "GrcAQjjsARpp"
      },
      "source": [
        "##LISTAS "
      ]
    },
    {
      "cell_type": "code",
      "metadata": {
        "id": "nkhcsqiHATrX"
      },
      "source": [
        "componentes = ['Placa de Video', 'Processador', 'HDD']"
      ],
      "execution_count": 46,
      "outputs": []
    },
    {
      "cell_type": "code",
      "metadata": {
        "colab": {
          "base_uri": "https://localhost:8080/"
        },
        "id": "PHud5rC2AdNW",
        "outputId": "3f3a5f9f-dce1-4abc-ec27-f18bb289f10d"
      },
      "source": [
        "componentes"
      ],
      "execution_count": 47,
      "outputs": [
        {
          "output_type": "execute_result",
          "data": {
            "text/plain": [
              "['Placa de Video', 'Processador', 'HDD']"
            ]
          },
          "metadata": {},
          "execution_count": 47
        }
      ]
    },
    {
      "cell_type": "code",
      "metadata": {
        "colab": {
          "base_uri": "https://localhost:8080/",
          "height": 35
        },
        "id": "Nopjs3Q_Ae1a",
        "outputId": "7e041942-86b9-479f-d781-f9cb6dc641da"
      },
      "source": [
        "componentes [2]"
      ],
      "execution_count": 49,
      "outputs": [
        {
          "output_type": "execute_result",
          "data": {
            "application/vnd.google.colaboratory.intrinsic+json": {
              "type": "string"
            },
            "text/plain": [
              "'HDD'"
            ]
          },
          "metadata": {},
          "execution_count": 49
        }
      ]
    },
    {
      "cell_type": "code",
      "metadata": {
        "id": "0RdPOt6UAhk1"
      },
      "source": [
        "# As listas iniciam com o 0 para o primeiro valor"
      ],
      "execution_count": 52,
      "outputs": []
    },
    {
      "cell_type": "code",
      "metadata": {
        "id": "GbD2rS7CA7Dv"
      },
      "source": [
        "## Concatenando listas"
      ],
      "execution_count": 53,
      "outputs": []
    },
    {
      "cell_type": "code",
      "metadata": {
        "id": "tAzSB4rDA9bS"
      },
      "source": [
        "quanto_custa = [10000, componentes]"
      ],
      "execution_count": 54,
      "outputs": []
    },
    {
      "cell_type": "code",
      "metadata": {
        "colab": {
          "base_uri": "https://localhost:8080/"
        },
        "id": "AWgDcRfNBJEX",
        "outputId": "3c8f61ed-7ac8-4bc4-d06e-359632f31b19"
      },
      "source": [
        "quanto_custa"
      ],
      "execution_count": 60,
      "outputs": [
        {
          "output_type": "execute_result",
          "data": {
            "text/plain": [
              "[10000, ['Placa de Video', 'Processador', 'HDD']]"
            ]
          },
          "metadata": {},
          "execution_count": 60
        }
      ]
    },
    {
      "cell_type": "code",
      "metadata": {
        "id": "kGawqmJIBhP0"
      },
      "source": [
        "quanto_custa = quanto_custa + ['Modem', 'Teclado', 500]"
      ],
      "execution_count": 63,
      "outputs": []
    },
    {
      "cell_type": "code",
      "metadata": {
        "id": "WQ6fk4jSB10G"
      },
      "source": [
        "tabajara = ['limão', 'acerola']"
      ],
      "execution_count": 94,
      "outputs": []
    },
    {
      "cell_type": "code",
      "metadata": {
        "id": "b8jyMzkMB-45"
      },
      "source": [
        "quanto_custa = quanto_custa + tabajara"
      ],
      "execution_count": 66,
      "outputs": []
    },
    {
      "cell_type": "code",
      "metadata": {
        "colab": {
          "base_uri": "https://localhost:8080/"
        },
        "id": "HMXt8tEhCC1U",
        "outputId": "744bd058-7d47-462d-9158-42e74b20d692"
      },
      "source": [
        "quanto_custa"
      ],
      "execution_count": 67,
      "outputs": [
        {
          "output_type": "execute_result",
          "data": {
            "text/plain": [
              "[10000,\n",
              " ['Placa de Video', 'Processador', 'HDD'],\n",
              " 'Modem',\n",
              " 'Teclado',\n",
              " 500,\n",
              " 'Modem',\n",
              " 'Teclado',\n",
              " 500,\n",
              " 'limão',\n",
              " 'acerola']"
            ]
          },
          "metadata": {},
          "execution_count": 67
        }
      ]
    },
    {
      "cell_type": "code",
      "metadata": {
        "colab": {
          "base_uri": "https://localhost:8080/"
        },
        "id": "pzTsJFwjCE1t",
        "outputId": "9e7b54d0-b83e-4261-e5bf-4b395fa4b910"
      },
      "source": [
        "quanto_custa[3],[1]"
      ],
      "execution_count": 68,
      "outputs": [
        {
          "output_type": "execute_result",
          "data": {
            "text/plain": [
              "('Teclado', [1])"
            ]
          },
          "metadata": {},
          "execution_count": 68
        }
      ]
    },
    {
      "cell_type": "code",
      "metadata": {
        "colab": {
          "base_uri": "https://localhost:8080/"
        },
        "id": "3ZKYHlvnCLkT",
        "outputId": "8042a258-a88f-4edb-dd95-5219b1bcef82"
      },
      "source": [
        "quanto_custa [:2] ##seleciona os 3 itens"
      ],
      "execution_count": 72,
      "outputs": [
        {
          "output_type": "execute_result",
          "data": {
            "text/plain": [
              "[10000, ['Placa de Video', 'Processador', 'HDD']]"
            ]
          },
          "metadata": {},
          "execution_count": 72
        }
      ]
    },
    {
      "cell_type": "code",
      "metadata": {
        "colab": {
          "base_uri": "https://localhost:8080/"
        },
        "id": "VI2GCABLCWCw",
        "outputId": "c54f793f-d960-40b3-a6c7-0d4414c26e39"
      },
      "source": [
        "quanto_custa [2:] ##seleciona a partir do 3a lista"
      ],
      "execution_count": 76,
      "outputs": [
        {
          "output_type": "execute_result",
          "data": {
            "text/plain": [
              "['Modem', 'Teclado', 500, 'Modem', 'Teclado', 500, 'limão', 'acerola']"
            ]
          },
          "metadata": {},
          "execution_count": 76
        }
      ]
    },
    {
      "cell_type": "code",
      "metadata": {
        "colab": {
          "base_uri": "https://localhost:8080/"
        },
        "id": "xl3Mao_NCruu",
        "outputId": "a8e6d74b-45c2-40ca-b070-75277aa4d58c"
      },
      "source": [
        "quanto_custa [1:] ##seleciona a partir do 3a lista"
      ],
      "execution_count": 77,
      "outputs": [
        {
          "output_type": "execute_result",
          "data": {
            "text/plain": [
              "[['Placa de Video', 'Processador', 'HDD'],\n",
              " 'Modem',\n",
              " 'Teclado',\n",
              " 500,\n",
              " 'Modem',\n",
              " 'Teclado',\n",
              " 500,\n",
              " 'limão',\n",
              " 'acerola']"
            ]
          },
          "metadata": {},
          "execution_count": 77
        }
      ]
    },
    {
      "cell_type": "code",
      "metadata": {
        "colab": {
          "base_uri": "https://localhost:8080/"
        },
        "id": "Bty2x8MkC-st",
        "outputId": "95f5ae25-8d50-4a51-967f-267cf9fc2a29"
      },
      "source": [
        "quanto_custa [2:4] ## mostra a partir da 3a lista até a 4a."
      ],
      "execution_count": 78,
      "outputs": [
        {
          "output_type": "execute_result",
          "data": {
            "text/plain": [
              "['Modem', 'Teclado']"
            ]
          },
          "metadata": {},
          "execution_count": 78
        }
      ]
    },
    {
      "cell_type": "markdown",
      "metadata": {
        "id": "X2-XimtpDaMU"
      },
      "source": [
        "##Adicionando e Removendo elementos"
      ]
    },
    {
      "cell_type": "code",
      "metadata": {
        "id": "er7YZsPBDede"
      },
      "source": [
        "## append para adicionar"
      ],
      "execution_count": 79,
      "outputs": []
    },
    {
      "cell_type": "code",
      "metadata": {
        "id": "DVpsQhVPDhHR"
      },
      "source": [
        "tabajara.append('Laraja')"
      ],
      "execution_count": 80,
      "outputs": []
    },
    {
      "cell_type": "code",
      "metadata": {
        "colab": {
          "base_uri": "https://localhost:8080/"
        },
        "id": "of0pmMJ3DpYY",
        "outputId": "3e861046-910e-4608-e156-f53d2699e750"
      },
      "source": [
        "tabajara"
      ],
      "execution_count": 81,
      "outputs": [
        {
          "output_type": "execute_result",
          "data": {
            "text/plain": [
              "['limão', 'acerola', 'Laraja']"
            ]
          },
          "metadata": {},
          "execution_count": 81
        }
      ]
    },
    {
      "cell_type": "code",
      "metadata": {
        "colab": {
          "base_uri": "https://localhost:8080/"
        },
        "id": "a8lbLQcBDqiN",
        "outputId": "1650e525-c8d6-4161-8643-7355c4136d8d"
      },
      "source": [
        "quanto_custa"
      ],
      "execution_count": 82,
      "outputs": [
        {
          "output_type": "execute_result",
          "data": {
            "text/plain": [
              "[10000,\n",
              " ['Placa de Video', 'Processador', 'HDD'],\n",
              " 'Modem',\n",
              " 'Teclado',\n",
              " 500,\n",
              " 'Modem',\n",
              " 'Teclado',\n",
              " 500,\n",
              " 'limão',\n",
              " 'acerola']"
            ]
          },
          "metadata": {},
          "execution_count": 82
        }
      ]
    },
    {
      "cell_type": "code",
      "metadata": {
        "id": "OfDUj7gdDtog"
      },
      "source": [
        "## pop é o comando para remover (se colocar pop() ... apaga o último)"
      ],
      "execution_count": 83,
      "outputs": []
    },
    {
      "cell_type": "code",
      "metadata": {
        "colab": {
          "base_uri": "https://localhost:8080/",
          "height": 35
        },
        "id": "5tHuLgQND1tp",
        "outputId": "9f78e17c-d8a9-4460-81e4-7f05b08b0533"
      },
      "source": [
        "tabajara.pop(1)"
      ],
      "execution_count": 84,
      "outputs": [
        {
          "output_type": "execute_result",
          "data": {
            "application/vnd.google.colaboratory.intrinsic+json": {
              "type": "string"
            },
            "text/plain": [
              "'acerola'"
            ]
          },
          "metadata": {},
          "execution_count": 84
        }
      ]
    },
    {
      "cell_type": "code",
      "metadata": {
        "id": "Vhx6bj3YD555"
      },
      "source": [
        "##removeu o 2o elemento da lista --- lembrando que sempre começa com ZERO"
      ],
      "execution_count": 86,
      "outputs": []
    },
    {
      "cell_type": "code",
      "metadata": {
        "colab": {
          "base_uri": "https://localhost:8080/"
        },
        "id": "Xg1iisF8EEYr",
        "outputId": "23ef8d32-51fc-4b70-c2ef-4559d81c53ba"
      },
      "source": [
        "tabajara"
      ],
      "execution_count": 88,
      "outputs": [
        {
          "output_type": "execute_result",
          "data": {
            "text/plain": [
              "['limão', 'Laraja']"
            ]
          },
          "metadata": {},
          "execution_count": 88
        }
      ]
    },
    {
      "cell_type": "code",
      "metadata": {
        "colab": {
          "base_uri": "https://localhost:8080/",
          "height": 35
        },
        "id": "6_TpdIlLELiG",
        "outputId": "f4e5d0c7-8b48-46f0-eefa-637128ecb22e"
      },
      "source": [
        "tabajara [0] ## lista o elemento ZERO"
      ],
      "execution_count": 90,
      "outputs": [
        {
          "output_type": "execute_result",
          "data": {
            "application/vnd.google.colaboratory.intrinsic+json": {
              "type": "string"
            },
            "text/plain": [
              "'limão'"
            ]
          },
          "metadata": {},
          "execution_count": 90
        }
      ]
    },
    {
      "cell_type": "code",
      "metadata": {
        "id": "Y5p1_5D6EfAY"
      },
      "source": [
        "tabajara [0] = 'Maçã' ## altera o elemento zero"
      ],
      "execution_count": 92,
      "outputs": []
    },
    {
      "cell_type": "code",
      "metadata": {
        "colab": {
          "base_uri": "https://localhost:8080/"
        },
        "id": "lCA329gFEpWB",
        "outputId": "3e0de73e-3e0a-4246-f864-e7c872021d1f"
      },
      "source": [
        "tabajara"
      ],
      "execution_count": 93,
      "outputs": [
        {
          "output_type": "execute_result",
          "data": {
            "text/plain": [
              "['Maçã', 'Laraja']"
            ]
          },
          "metadata": {},
          "execution_count": 93
        }
      ]
    },
    {
      "cell_type": "code",
      "metadata": {
        "colab": {
          "base_uri": "https://localhost:8080/"
        },
        "id": "2cf8OCUKEs4y",
        "outputId": "4a00f73d-d87b-4cbf-c69f-2aa01fb4f57b"
      },
      "source": [
        "tabajara"
      ],
      "execution_count": 95,
      "outputs": [
        {
          "output_type": "execute_result",
          "data": {
            "text/plain": [
              "['limão', 'acerola']"
            ]
          },
          "metadata": {},
          "execution_count": 95
        }
      ]
    },
    {
      "cell_type": "markdown",
      "metadata": {
        "id": "lim3aHd1KV4o"
      },
      "source": [
        "## TUPLAS = LISTAS mas não altera os valores e pode ser feita entre aspas\n"
      ]
    },
    {
      "cell_type": "code",
      "metadata": {
        "id": "I9Wovqv-KcVV"
      },
      "source": [
        "marcas = 'GM', 'FORD', 'FIAT'"
      ],
      "execution_count": 96,
      "outputs": []
    },
    {
      "cell_type": "code",
      "metadata": {
        "colab": {
          "base_uri": "https://localhost:8080/"
        },
        "id": "E0X-psizKiG1",
        "outputId": "7d2cc85e-3096-4c52-f1c1-46645ffccc84"
      },
      "source": [
        "marcas"
      ],
      "execution_count": 97,
      "outputs": [
        {
          "output_type": "execute_result",
          "data": {
            "text/plain": [
              "('GM', 'FORD', 'FIAT')"
            ]
          },
          "metadata": {},
          "execution_count": 97
        }
      ]
    },
    {
      "cell_type": "code",
      "metadata": {
        "id": "TxCX4XTmKiu6"
      },
      "source": [
        ""
      ],
      "execution_count": null,
      "outputs": []
    }
  ]
}